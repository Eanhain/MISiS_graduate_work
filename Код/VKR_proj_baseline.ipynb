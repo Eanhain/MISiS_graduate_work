{
 "cells": [
  {
   "cell_type": "code",
   "execution_count": 71,
   "id": "6e82871f-ccdc-4ddc-9165-131f7b0307b7",
   "metadata": {},
   "outputs": [],
   "source": [
    "import numpy as np\n",
    "import scipy as sp\n",
    "import pandas as pd\n",
    "import matplotlib.pyplot as plt\n",
    "import matplotlib as mpl\n",
    "import mglearn\n",
    "from sklearn.preprocessing import MinMaxScaler, RobustScaler, LabelEncoder, StandardScaler\n",
    "from scipy.stats import normaltest, probplot, poisson, chisquare, shapiro, ttest_ind, chi2_contingency\n",
    "import scipy\n",
    "from scipy import stats\n",
    "import statsmodels.api as sm\n",
    "from sklearn.model_selection import cross_val_score\n",
    "plt.rc(\"font\", family=\"Verdana\") # кириллица\n",
    "from sklearn.feature_selection import f_classif\n",
    "from sklearn.ensemble import RandomForestClassifier\n",
    "from sklearn.model_selection import train_test_split, GridSearchCV\n",
    "from sklearn.metrics import classification_report, confusion_matrix, roc_auc_score\n",
    "from sklearn.model_selection import train_test_split\n",
    "import catboost as cb\n",
    "from sklearn.metrics import log_loss\n",
    "import seaborn as sns\n",
    "\n",
    "from sklearn.feature_selection import f_classif\n",
    "%matplotlib inline\n",
    "plt.rcParams['image.cmap'] = \"gray\""
   ]
  },
  {
   "cell_type": "code",
   "execution_count": 2,
   "id": "3bf8b4a3-976d-4e47-8146-22ed0affb5de",
   "metadata": {},
   "outputs": [
    {
     "name": "stdout",
     "output_type": "stream",
     "text": [
      "Измененные колонки для \n",
      "Первого датасета ['Дата', 'Дата_получения_локации', 'Широта', 'Долгота', 'Высота', 'Скорость', 'Точность', 'Ax', 'Ay', 'Az', 'Сердечный_Ритм', 'Шаги', 'Разметка'], \n",
      "Второго датасета ['Дата', 'Дата_получения_локации', 'Широта', 'Долгота', 'Высота', 'Скорость', 'Точность', 'Ax', 'Ay', 'Az', 'Сердечный_Ритм', 'Шаги', 'Разметка']\n"
     ]
    }
   ],
   "source": [
    "table_Pasha = pd.read_excel(\"./datasets/Разметка паша.xlsx\")\n",
    "table_Max = pd.read_excel(\"./datasets/Разметка макс.xlsx\")\n",
    "table_Pasha.columns = table_Max.columns = [\"Дата\", \"Дата_получения_локации\", \"Широта\", \n",
    "                                           \"Долгота\", \"Высота\", \"Скорость\", \"Точность\", \"Ax\", \n",
    "                                           \"Ay\", \"Az\", \"Сердечный_Ритм\", \"Шаги\", \"Разметка\"]\n",
    "print(\"Измененные колонки для \\nПервого датасета {}, \\nВторого датасета {}\".format(list(table_Pasha.columns), \n",
    "                                                                                   list(table_Max.columns)))"
   ]
  },
  {
   "cell_type": "code",
   "execution_count": 3,
   "id": "f93c602d-a68a-4c0a-b7cb-824717f3a30f",
   "metadata": {},
   "outputs": [],
   "source": [
    "def change_class_inplace(df):\n",
    "    df.replace({'Разметка': 'c'}, 'e', inplace=True)\n",
    "    df.replace({'Разметка': 'd'}, 'c', inplace=True)\n",
    "    df.replace({'Разметка': 'f'}, 'e', inplace=True)\n",
    "    df.replace({'Разметка': 'g'}, 'd', inplace=True)\n",
    "    df.replace({'Разметка': 'h'}, 'f', inplace=True)\n",
    "    df.replace({'Разметка': 'i'}, 'd', inplace=True)\n",
    "    df.replace({'Разметка': 'j'}, 'c', inplace=True)\n",
    "    df.replace({'Разметка': 'k'}, 'a', inplace=True)\n",
    "    loss = df.query('Разметка == \"l\"')\n",
    "    df.drop(df[df.Разметка == \"l\"].index, inplace=True)\n",
    "    df.reset_index(drop=True, inplace=True)\n",
    "    return loss\n",
    "\n",
    "pasha_loss = change_class_inplace(table_Pasha)\n",
    "max_loss = change_class_inplace(table_Max)"
   ]
  },
  {
   "cell_type": "code",
   "execution_count": 4,
   "id": "7afc6d64-c04d-465b-8b6c-84e762c098d3",
   "metadata": {},
   "outputs": [
    {
     "data": {
      "text/html": [
       "<div>\n",
       "<style scoped>\n",
       "    .dataframe tbody tr th:only-of-type {\n",
       "        vertical-align: middle;\n",
       "    }\n",
       "\n",
       "    .dataframe tbody tr th {\n",
       "        vertical-align: top;\n",
       "    }\n",
       "\n",
       "    .dataframe thead th {\n",
       "        text-align: right;\n",
       "    }\n",
       "</style>\n",
       "<table border=\"1\" class=\"dataframe\">\n",
       "  <thead>\n",
       "    <tr style=\"text-align: right;\">\n",
       "      <th></th>\n",
       "      <th>Дата</th>\n",
       "      <th>Дата_получения_локации</th>\n",
       "      <th>Широта</th>\n",
       "      <th>Долгота</th>\n",
       "      <th>Высота</th>\n",
       "      <th>Скорость</th>\n",
       "      <th>Точность</th>\n",
       "      <th>Ax</th>\n",
       "      <th>Ay</th>\n",
       "      <th>Az</th>\n",
       "      <th>Сердечный_Ритм</th>\n",
       "      <th>Шаги</th>\n",
       "      <th>Разметка</th>\n",
       "    </tr>\n",
       "  </thead>\n",
       "  <tbody>\n",
       "    <tr>\n",
       "      <th>0</th>\n",
       "      <td>2021-07-20 16:01:03.525</td>\n",
       "      <td>2021-07-20 13:00:38</td>\n",
       "      <td>55.729598</td>\n",
       "      <td>37.602865</td>\n",
       "      <td>0</td>\n",
       "      <td>0.0</td>\n",
       "      <td>600</td>\n",
       "      <td>8.964</td>\n",
       "      <td>-2.700</td>\n",
       "      <td>2.585</td>\n",
       "      <td>0.0</td>\n",
       "      <td>502.0</td>\n",
       "      <td>e</td>\n",
       "    </tr>\n",
       "    <tr>\n",
       "      <th>1</th>\n",
       "      <td>2021-07-20 16:01:03.579</td>\n",
       "      <td>2021-07-20 13:00:38</td>\n",
       "      <td>55.729598</td>\n",
       "      <td>37.602865</td>\n",
       "      <td>0</td>\n",
       "      <td>0.0</td>\n",
       "      <td>600</td>\n",
       "      <td>8.619</td>\n",
       "      <td>-3.581</td>\n",
       "      <td>2.164</td>\n",
       "      <td>0.0</td>\n",
       "      <td>502.0</td>\n",
       "      <td>e</td>\n",
       "    </tr>\n",
       "    <tr>\n",
       "      <th>2</th>\n",
       "      <td>2021-07-20 16:01:03.631</td>\n",
       "      <td>2021-07-20 13:00:38</td>\n",
       "      <td>55.729598</td>\n",
       "      <td>37.602865</td>\n",
       "      <td>0</td>\n",
       "      <td>0.0</td>\n",
       "      <td>600</td>\n",
       "      <td>8.523</td>\n",
       "      <td>-3.332</td>\n",
       "      <td>2.164</td>\n",
       "      <td>0.0</td>\n",
       "      <td>502.0</td>\n",
       "      <td>e</td>\n",
       "    </tr>\n",
       "    <tr>\n",
       "      <th>3</th>\n",
       "      <td>2021-07-20 16:01:03.684</td>\n",
       "      <td>2021-07-20 13:00:38</td>\n",
       "      <td>55.729598</td>\n",
       "      <td>37.602865</td>\n",
       "      <td>0</td>\n",
       "      <td>0.0</td>\n",
       "      <td>600</td>\n",
       "      <td>8.447</td>\n",
       "      <td>-2.681</td>\n",
       "      <td>2.011</td>\n",
       "      <td>0.0</td>\n",
       "      <td>502.0</td>\n",
       "      <td>e</td>\n",
       "    </tr>\n",
       "    <tr>\n",
       "      <th>4</th>\n",
       "      <td>2021-07-20 16:01:03.738</td>\n",
       "      <td>2021-07-20 13:00:38</td>\n",
       "      <td>55.729598</td>\n",
       "      <td>37.602865</td>\n",
       "      <td>0</td>\n",
       "      <td>0.0</td>\n",
       "      <td>600</td>\n",
       "      <td>8.676</td>\n",
       "      <td>-1.857</td>\n",
       "      <td>2.183</td>\n",
       "      <td>0.0</td>\n",
       "      <td>502.0</td>\n",
       "      <td>e</td>\n",
       "    </tr>\n",
       "  </tbody>\n",
       "</table>\n",
       "</div>"
      ],
      "text/plain": [
       "                     Дата Дата_получения_локации     Широта    Долгота  \\\n",
       "0 2021-07-20 16:01:03.525    2021-07-20 13:00:38  55.729598  37.602865   \n",
       "1 2021-07-20 16:01:03.579    2021-07-20 13:00:38  55.729598  37.602865   \n",
       "2 2021-07-20 16:01:03.631    2021-07-20 13:00:38  55.729598  37.602865   \n",
       "3 2021-07-20 16:01:03.684    2021-07-20 13:00:38  55.729598  37.602865   \n",
       "4 2021-07-20 16:01:03.738    2021-07-20 13:00:38  55.729598  37.602865   \n",
       "\n",
       "   Высота  Скорость  Точность     Ax     Ay     Az  Сердечный_Ритм   Шаги  \\\n",
       "0       0       0.0       600  8.964 -2.700  2.585             0.0  502.0   \n",
       "1       0       0.0       600  8.619 -3.581  2.164             0.0  502.0   \n",
       "2       0       0.0       600  8.523 -3.332  2.164             0.0  502.0   \n",
       "3       0       0.0       600  8.447 -2.681  2.011             0.0  502.0   \n",
       "4       0       0.0       600  8.676 -1.857  2.183             0.0  502.0   \n",
       "\n",
       "  Разметка  \n",
       "0        e  \n",
       "1        e  \n",
       "2        e  \n",
       "3        e  \n",
       "4        e  "
      ]
     },
     "execution_count": 4,
     "metadata": {},
     "output_type": "execute_result"
    }
   ],
   "source": [
    "table_Pasha.head()"
   ]
  },
  {
   "cell_type": "code",
   "execution_count": 26,
   "id": "4cd41d22-5cb3-461f-b306-992dd3a7bf59",
   "metadata": {},
   "outputs": [
    {
     "name": "stdout",
     "output_type": "stream",
     "text": [
      "Данные первого датасета:\n",
      "        Широта  Долгота   Высота  Скорость  Точность            Ax  \\\n",
      "count  98836.0  98836.0  98836.0   98836.0   98836.0  98836.000000   \n",
      "mean       0.0      0.0      0.0       0.0       0.0      5.708649   \n",
      "std        0.0      0.0      0.0       0.0       0.0      5.028641   \n",
      "min        0.0      0.0      0.0       0.0       0.0    -29.400999   \n",
      "25%        0.0      0.0      0.0       0.0       0.0      2.049000   \n",
      "50%        0.0      0.0      0.0       0.0       0.0      6.148000   \n",
      "75%        0.0      0.0      0.0       0.0       0.0      9.807000   \n",
      "max        0.0      0.0      0.0       0.0       0.0     39.208000   \n",
      "\n",
      "                 Ay            Az  Сердечный_Ритм          Шаги  \n",
      "count  98836.000000  98836.000000    98836.000000  98836.000000  \n",
      "mean      -4.455635      0.263577       69.864163   1033.377271  \n",
      "std        4.227270      4.912282        9.283915    726.247543  \n",
      "min      -39.228001    -39.208000        0.000000      0.000000  \n",
      "25%       -7.623000     -2.758000       64.007660    472.000000  \n",
      "50%       -4.654000     -0.114000       68.100480    752.000000  \n",
      "75%       -1.149000      3.466000       72.297104   1718.000000  \n",
      "max       39.208000     39.228001      101.698270   2424.000000  \n",
      "\n",
      "\n",
      "Данные второго датасета\n",
      "              Широта        Долгота         Высота       Скорость  \\\n",
      "count  100490.000000  100490.000000  100490.000000  100490.000000   \n",
      "mean       55.552693      37.487491       3.921107       0.000006   \n",
      "std         3.120135       2.105499      25.518527       0.000097   \n",
      "min         0.000000       0.000000       0.000000       0.000000   \n",
      "25%        55.727449      37.606591       0.000000       0.000000   \n",
      "50%        55.727449      37.606591       0.000000       0.000000   \n",
      "75%        55.727449      37.606591       0.000000       0.000000   \n",
      "max        55.737360      37.610891     171.000000       0.001572   \n",
      "\n",
      "            Точность             Ax             Ay             Az  \\\n",
      "count  100490.000000  100490.000000  100490.000000  100490.000000   \n",
      "mean      483.860086       4.815008      -5.213053       1.522117   \n",
      "std       104.188903       4.874701       3.494547       4.193946   \n",
      "min         0.000000     -35.223999     -36.852001     -29.726999   \n",
      "25%       500.000000       1.398000      -8.083000      -1.206000   \n",
      "50%       500.000000       5.822000      -5.248000       1.896000   \n",
      "75%       500.000000       8.887000      -2.547000       4.137000   \n",
      "max       700.000000      39.151001      35.263000      35.435001   \n",
      "\n",
      "       Сердечный_Ритм           Шаги  \n",
      "count   100490.000000  100490.000000  \n",
      "mean        47.321643    1142.734183  \n",
      "std         43.411542     636.735857  \n",
      "min          0.000000     302.000000  \n",
      "25%          0.000000     564.000000  \n",
      "50%         66.011360     946.000000  \n",
      "75%         88.362970    1728.000000  \n",
      "max        115.662650    2348.000000  \n"
     ]
    }
   ],
   "source": [
    "with pd.option_context('display.max_rows', None, 'display.max_columns', None): \n",
    "    print(\"Данные первого датасета:\\n{}\\n\\n\\nДанные второго датасета\\n{}\"\n",
    "          .format(table_Max.describe(), table_Pasha.describe()))"
   ]
  },
  {
   "cell_type": "code",
   "execution_count": 6,
   "id": "698060c3-6b7a-4c06-9f0e-9d3d054f0334",
   "metadata": {},
   "outputs": [
    {
     "data": {
      "image/png": "[encoded data removed]",
      "text/plain": [
       "<Figure size 1152x720 with 6 Axes>"
      ]
     },
     "metadata": {
      "needs_background": "light"
     },
     "output_type": "display_data"
    }
   ],
   "source": [
    "fig, axes = plt.subplots(nrows=3, ncols=2, figsize=(16, 10))\n",
    "features = [\"Широта\", \"Долгота\", \"Высота\", \"Скорость\", \"Точность\"]\n",
    "for idx, feat in enumerate(features):\n",
    "    sns.histplot(y=feat, x=\"Разметка\", data=table_Pasha, ax=axes[idx // 2, idx % 2])"
   ]
  },
  {
   "cell_type": "code",
   "execution_count": 5,
   "id": "69eacb5c-2311-4edb-965b-19a4ef631556",
   "metadata": {},
   "outputs": [
    {
     "data": {
      "text/plain": [
       "array(['e', 'd', 'b', 'a', 'c'], dtype=object)"
      ]
     },
     "execution_count": 5,
     "metadata": {},
     "output_type": "execute_result"
    }
   ],
   "source": [
    "table_Pasha.Разметка.unique()"
   ]
  },
  {
   "cell_type": "code",
   "execution_count": 230,
   "id": "e6e8bd42-30e5-4ece-9ac7-29f48d508ac3",
   "metadata": {},
   "outputs": [
    {
     "data": {
      "image/png": "[encoded data removed]",
      "text/plain": [
       "<Figure size 1080x504 with 1 Axes>"
      ]
     },
     "metadata": {
      "needs_background": "light"
     },
     "output_type": "display_data"
    }
   ],
   "source": [
    "plt.figure(figsize=(15, 7))\n",
    "table_Pasha.Дата_получения_локации.plot(label=\"Второй датасет\")\n",
    "table_Max.Дата_получения_локации.plot(label=\"Первый датасет\")\n",
    "plt.legend();\n",
    "plt.xlabel(\"Количество точек данных\")\n",
    "plt.ylabel(\"Дата со спутников\");"
   ]
  },
  {
   "cell_type": "code",
   "execution_count": 228,
   "id": "34506853-d513-4f3b-a197-73a99e01914f",
   "metadata": {},
   "outputs": [
    {
     "data": {
      "image/png": "[encoded data removed]",
      "text/plain": [
       "<Figure size 1080x504 with 1 Axes>"
      ]
     },
     "metadata": {
      "needs_background": "light"
     },
     "output_type": "display_data"
    }
   ],
   "source": [
    "plt.figure(figsize=(15, 7))\n",
    "table_Pasha.Дата.plot(label=\"Второй датасет\")\n",
    "table_Max.Дата.plot(label=\"Первый датасет\")\n",
    "plt.legend();\n",
    "plt.xlabel(\"Количество точек данных\")\n",
    "plt.ylabel(\"Дата\");"
   ]
  },
  {
   "cell_type": "code",
   "execution_count": 6,
   "id": "a9fff6d1-ff70-4e7e-8e67-5f7c4978ccde",
   "metadata": {},
   "outputs": [],
   "source": [
    "table_Pasha.drop(axis=1, inplace=True, columns=[\"Широта\", \"Долгота\", \"Дата\", \"Высота\", \"Скорость\", \n",
    "                                                \"Точность\", 'Дата_получения_локации'])\n",
    "table_Max.drop(axis=1, inplace=True, columns=[\"Широта\", \"Долгота\", \"Дата\", \"Высота\", \"Скорость\", \n",
    "                                              \"Точность\", 'Дата_получения_локации'])"
   ]
  },
  {
   "cell_type": "code",
   "execution_count": 7,
   "id": "91476308-9a16-4682-96c4-e15ce295d31a",
   "metadata": {},
   "outputs": [
    {
     "data": {
      "image/png": "[encoded data removed]",
      "text/plain": [
       "<Figure size 1152x720 with 4 Axes>"
      ]
     },
     "metadata": {
      "needs_background": "light"
     },
     "output_type": "display_data"
    }
   ],
   "source": [
    "corr_table = pd.concat([table_Pasha.drop([\"Разметка\", \"Шаги\"], axis=1), table_Max.drop([\"Разметка\", \"Шаги\"], axis=1)], axis=0)\n",
    "fig, axes = plt.subplots(nrows=2, ncols=2, figsize=(16, 10))\n",
    "for idx, x in enumerate(corr_table):\n",
    "    pp = sm.ProbPlot(corr_table[x].values, fit=True);\n",
    "    pp.qqplot(line=\"45\", ax=axes[idx // 2, idx % 2])\n",
    "    axes[idx // 2, idx % 2].set_xlabel(\"Ожидаемые квантили признака {}\".format(x))\n",
    "    axes[idx // 2, idx % 2].set_ylabel(\"Наблюдаемые квантили признака {}\".format(x))"
   ]
  },
  {
   "cell_type": "code",
   "execution_count": 80,
   "id": "9f6c6b3e-7e9f-43b0-a1c7-26cd8aee0c29",
   "metadata": {},
   "outputs": [
    {
     "data": {
      "image/png": "[encoded data removed]",
      "text/plain": [
       "<Figure size 1080x504 with 1 Axes>"
      ]
     },
     "metadata": {
      "needs_background": "light"
     },
     "output_type": "display_data"
    }
   ],
   "source": [
    "plt.figure(figsize=(15, 7))\n",
    "table_Pasha.Шаги.plot(label=\"Второй датасет\")\n",
    "table_Max.Шаги.plot(label=\"Первый датасет\")\n",
    "plt.legend();\n",
    "plt.xlabel(\"Количество точек данных\")\n",
    "plt.ylabel(\"Количество шагов\");"
   ]
  },
  {
   "cell_type": "markdown",
   "id": "6b16ce13-44af-47f7-8877-24570cb5aaaf",
   "metadata": {},
   "source": [
    "Правим Шаги\n"
   ]
  },
  {
   "cell_type": "code",
   "execution_count": 6,
   "id": "63fa917a-58c4-4ffa-8b9b-067e24ccf09e",
   "metadata": {},
   "outputs": [],
   "source": [
    "table_Pasha_new = table_Pasha.copy()\n",
    "table_Max_new = table_Max.copy()"
   ]
  },
  {
   "cell_type": "code",
   "execution_count": 7,
   "id": "f2fc7790-bb4a-407c-9dbf-1aa239e9b962",
   "metadata": {},
   "outputs": [],
   "source": [
    "p_f_u = [int(x) for x in table_Pasha.Шаги.unique()]\n",
    "m_f_u = [int(x) for x in table_Max.Шаги.unique()]"
   ]
  },
  {
   "cell_type": "code",
   "execution_count": 8,
   "id": "ccea2e7b-bb27-45c3-8918-43039935923b",
   "metadata": {},
   "outputs": [],
   "source": [
    "def foot(c, f_u):\n",
    "    c = int(c)\n",
    "    if c != f_u[0]:\n",
    "        return c - f_u[f_u.index(c) - 1]\n",
    "    else:\n",
    "        return f_u[0]"
   ]
  },
  {
   "cell_type": "code",
   "execution_count": 9,
   "id": "b25b8855-694d-42cc-ad5e-5fbb7293fa6d",
   "metadata": {},
   "outputs": [],
   "source": [
    "table_Pasha_new[\"Шаги\"] = table_Pasha.Шаги.apply(foot, args=(p_f_u,))\n",
    "table_Max_new[\"Шаги\"] = table_Max.Шаги.apply(foot, args=(m_f_u,))"
   ]
  },
  {
   "cell_type": "code",
   "execution_count": 10,
   "id": "7455ed8c-927a-4bfc-a6c8-5f661ced112f",
   "metadata": {},
   "outputs": [],
   "source": [
    "table_Pasha_new.replace({\"Шаги\": 502}, 2, inplace=True)"
   ]
  },
  {
   "cell_type": "code",
   "execution_count": 11,
   "id": "8f722ed9-19ec-4838-9f9d-9df47de27469",
   "metadata": {},
   "outputs": [],
   "source": [
    "scaled_features = StandardScaler().fit_transform(table_Pasha_new.drop([\"Разметка\"], axis=1))\n",
    "table_Pasha_new_s = pd.concat([pd.DataFrame(scaled_features, \n",
    "                                            columns=table_Pasha_new.drop([\"Разметка\"], axis=1).columns), \n",
    "                               table_Pasha_new[[\"Разметка\"]]], axis = 1)\n",
    "\n",
    "scaled_features = StandardScaler().fit_transform(table_Max_new.drop([\"Разметка\"], axis=1))\n",
    "table_Max_new_s = pd.concat([pd.DataFrame(scaled_features, \n",
    "                                          columns=table_Max_new.drop([\"Разметка\"], axis=1).columns), \n",
    "                             table_Max_new[[\"Разметка\"]]], axis = 1) "
   ]
  },
  {
   "cell_type": "code",
   "execution_count": 232,
   "id": "5848627e-9e1e-4c59-8a9d-61e9cc5c4ebe",
   "metadata": {},
   "outputs": [
    {
     "name": "stdout",
     "output_type": "stream",
     "text": [
      "Количество пропущенных значений (столбец): 0\n",
      "Всего значений (столбец): 11121\n",
      "Количество пропущенных значений (столбец): 0\n",
      "Всего значений (столбец): 10685\n"
     ]
    }
   ],
   "source": [
    "def agg_interval(df, sample_time=\"5S\"):\n",
    "    def mode_int(x):\n",
    "        return stats.mode(x).mode\n",
    "    \n",
    "    def quantile_25(x):\n",
    "        return np.quantile(x, .25)\n",
    "    \n",
    "    def quantile_75(x):\n",
    "        return np.quantile(x, .75)\n",
    "    \n",
    "    def str_func(x):\n",
    "        if len(x) <= 1:\n",
    "            return \"0\" + x\n",
    "        else:\n",
    "            return x\n",
    "    \n",
    "    V = \"\"\n",
    "    def mode_str(x):\n",
    "        nonlocal V\n",
    "        mode = str(*stats.mode(list(x)).mode)\n",
    "        if not mode:\n",
    "            mode = V\n",
    "        else:\n",
    "            V = mode\n",
    "        return mode\n",
    "    \n",
    "    indexx = df.reset_index().index\n",
    "    hours = indexx // 3600\n",
    "    minutes = indexx // 60 - (indexx // 3600) * 60\n",
    "    seconds = indexx - hours * 3600 - minutes * 60\n",
    "    \n",
    "    hms = pd.DataFrame({'hour': hours,\n",
    "                   'minute': minutes,\n",
    "                   'second': seconds})\n",
    "    \n",
    "    df = pd.concat([pd.DataFrame(pd.to_datetime(hms.iloc[:, 0].astype(str).apply(str_func) \\\n",
    "                                           + \":\" + hms.iloc[:, 1].astype(str).apply(str_func) \\\n",
    "                                           + \":\" + hms.iloc[:, 2].astype(str)\\\n",
    "               .apply(str_func), format=\"%H:%M:%S\"), columns=[\"Date\"]), df], axis=1)\n",
    "    \n",
    "    d = {'Разметка': mode_str}\n",
    "    for x in set(df.columns) - set([\"Разметка\", \"Date\"]): \n",
    "        d[x] = [mode_int, quantile_25, quantile_75, np.mean, np.std, stats.skew, stats.kurtosis, \\\n",
    "                np.min, np.max, stats.entropy]\n",
    "    new_df =  df.set_index(\"Date\").resample(sample_time).agg(d)\n",
    "    print(\"Количество пропущенных значений (столбец):\", new_df.iloc[:, 3].isnull().values.sum())\n",
    "    print(\"Всего значений (столбец):\", new_df.shape[0])\n",
    "    for i in new_df.columns: # итерируемся по столбцам\n",
    "        new_df[i].fillna(method=\"ffill\", inplace=True)\n",
    "        \n",
    "    return new_df\n",
    "\n",
    "table_Pasha_new_s_feature = agg_interval(table_Pasha_new_s)\n",
    "table_Max_new_s_feature = agg_interval(table_Max_new_s)"
   ]
  },
  {
   "cell_type": "code",
   "execution_count": 233,
   "id": "96c97b87-74e7-4239-9ede-e50e1ab59aa8",
   "metadata": {},
   "outputs": [],
   "source": [
    "table_s_feature = pd.concat([table_Pasha_new_s_feature, table_Max_new_s_feature], axis=0)"
   ]
  },
  {
   "cell_type": "code",
   "execution_count": 252,
   "id": "acf58734-ee1b-4f20-b3ac-81a7471feccf",
   "metadata": {},
   "outputs": [],
   "source": [
    "table_s_feature.to_csv('table_s_feature1.csv', index=False)"
   ]
  },
  {
   "cell_type": "code",
   "execution_count": 25,
   "id": "b34394a2-c0d5-44b7-a381-f1d40e38130a",
   "metadata": {},
   "outputs": [
    {
     "data": {
      "text/html": [
       "<div>\n",
       "<style scoped>\n",
       "    .dataframe tbody tr th:only-of-type {\n",
       "        vertical-align: middle;\n",
       "    }\n",
       "\n",
       "    .dataframe tbody tr th {\n",
       "        vertical-align: top;\n",
       "    }\n",
       "\n",
       "    .dataframe thead th {\n",
       "        text-align: right;\n",
       "    }\n",
       "</style>\n",
       "<table border=\"1\" class=\"dataframe\">\n",
       "  <thead>\n",
       "    <tr style=\"text-align: right;\">\n",
       "      <th></th>\n",
       "      <th>Разметка</th>\n",
       "      <th>Ay</th>\n",
       "      <th>Ay.1</th>\n",
       "      <th>Ay.2</th>\n",
       "      <th>Ay.3</th>\n",
       "      <th>Ay.4</th>\n",
       "      <th>Ay.5</th>\n",
       "      <th>Ay.6</th>\n",
       "      <th>Ay.7</th>\n",
       "      <th>Ay.8</th>\n",
       "      <th>...</th>\n",
       "      <th>Сердечный_Ритм</th>\n",
       "      <th>Сердечный_Ритм.1</th>\n",
       "      <th>Сердечный_Ритм.2</th>\n",
       "      <th>Сердечный_Ритм.3</th>\n",
       "      <th>Сердечный_Ритм.4</th>\n",
       "      <th>Сердечный_Ритм.5</th>\n",
       "      <th>Сердечный_Ритм.6</th>\n",
       "      <th>Сердечный_Ритм.7</th>\n",
       "      <th>Сердечный_Ритм.8</th>\n",
       "      <th>Сердечный_Ритм.9</th>\n",
       "    </tr>\n",
       "  </thead>\n",
       "  <tbody>\n",
       "    <tr>\n",
       "      <th>0</th>\n",
       "      <td>mode_str</td>\n",
       "      <td>mode_int</td>\n",
       "      <td>quantile_25</td>\n",
       "      <td>quantile_75</td>\n",
       "      <td>mean</td>\n",
       "      <td>std</td>\n",
       "      <td>skew</td>\n",
       "      <td>kurtosis</td>\n",
       "      <td>amin</td>\n",
       "      <td>amax</td>\n",
       "      <td>...</td>\n",
       "      <td>mode_int</td>\n",
       "      <td>quantile_25</td>\n",
       "      <td>quantile_75</td>\n",
       "      <td>mean</td>\n",
       "      <td>std</td>\n",
       "      <td>skew</td>\n",
       "      <td>kurtosis</td>\n",
       "      <td>amin</td>\n",
       "      <td>amax</td>\n",
       "      <td>entropy</td>\n",
       "    </tr>\n",
       "    <tr>\n",
       "      <th>1</th>\n",
       "      <td>e</td>\n",
       "      <td>0.5192963983494827</td>\n",
       "      <td>0.5924547933733363</td>\n",
       "      <td>0.7837242832204152</td>\n",
       "      <td>0.7398880106980088</td>\n",
       "      <td>0.19719332221128227</td>\n",
       "      <td>0.34917205900560794</td>\n",
       "      <td>-1.0302843680796943</td>\n",
       "      <td>0.5192963983494827</td>\n",
       "      <td>1.0258226768843313</td>\n",
       "      <td>...</td>\n",
       "      <td>-1.243010309639208</td>\n",
       "      <td>-1.243010309639208</td>\n",
       "      <td>-1.243010309639208</td>\n",
       "      <td>-1.243010309639208</td>\n",
       "      <td>0.0</td>\n",
       "      <td>0.0</td>\n",
       "      <td>-3.0</td>\n",
       "      <td>-1.243010309639208</td>\n",
       "      <td>-1.243010309639208</td>\n",
       "      <td>1.6094379124341005</td>\n",
       "    </tr>\n",
       "    <tr>\n",
       "      <th>2</th>\n",
       "      <td>e</td>\n",
       "      <td>0.7387715133715835</td>\n",
       "      <td>0.8004713578447651</td>\n",
       "      <td>1.0763577932663695</td>\n",
       "      <td>0.9682949151979703</td>\n",
       "      <td>0.18636317277108674</td>\n",
       "      <td>-0.32499048247816037</td>\n",
       "      <td>-1.6624501968456527</td>\n",
       "      <td>0.7387715133715835</td>\n",
       "      <td>1.1606808813566365</td>\n",
       "      <td>...</td>\n",
       "      <td>-1.243010309639208</td>\n",
       "      <td>-1.243010309639208</td>\n",
       "      <td>-1.243010309639208</td>\n",
       "      <td>-1.243010309639208</td>\n",
       "      <td>0.0</td>\n",
       "      <td>0.0</td>\n",
       "      <td>-3.0</td>\n",
       "      <td>-1.243010309639208</td>\n",
       "      <td>-1.243010309639208</td>\n",
       "      <td>1.6094379124341005</td>\n",
       "    </tr>\n",
       "    <tr>\n",
       "      <th>3</th>\n",
       "      <td>e</td>\n",
       "      <td>0.7781419016624785</td>\n",
       "      <td>0.9074177596015771</td>\n",
       "      <td>1.059316861157761</td>\n",
       "      <td>0.9524880164045444</td>\n",
       "      <td>0.12027540712265239</td>\n",
       "      <td>-0.4043443321695687</td>\n",
       "      <td>-1.1272787207279975</td>\n",
       "      <td>0.7781419016624785</td>\n",
       "      <td>1.070775411708433</td>\n",
       "      <td>...</td>\n",
       "      <td>-1.243010309639208</td>\n",
       "      <td>-1.243010309639208</td>\n",
       "      <td>-1.243010309639208</td>\n",
       "      <td>-1.243010309639208</td>\n",
       "      <td>0.0</td>\n",
       "      <td>0.0</td>\n",
       "      <td>-3.0</td>\n",
       "      <td>-1.243010309639208</td>\n",
       "      <td>-1.243010309639208</td>\n",
       "      <td>1.6094379124341005</td>\n",
       "    </tr>\n",
       "    <tr>\n",
       "      <th>4</th>\n",
       "      <td>e</td>\n",
       "      <td>0.007187843330887476</td>\n",
       "      <td>0.04655816157232266</td>\n",
       "      <td>0.22078671931079297</td>\n",
       "      <td>0.17483505817375336</td>\n",
       "      <td>0.1737328589124364</td>\n",
       "      <td>0.7054107647230435</td>\n",
       "      <td>-0.7761532793845038</td>\n",
       "      <td>0.007187843330887476</td>\n",
       "      <td>0.44613807337508893</td>\n",
       "      <td>...</td>\n",
       "      <td>-1.243010309639208</td>\n",
       "      <td>-1.243010309639208</td>\n",
       "      <td>-1.243010309639208</td>\n",
       "      <td>-1.243010309639208</td>\n",
       "      <td>0.0</td>\n",
       "      <td>0.0</td>\n",
       "      <td>-3.0</td>\n",
       "      <td>-1.243010309639208</td>\n",
       "      <td>-1.243010309639208</td>\n",
       "      <td>1.6094379124341005</td>\n",
       "    </tr>\n",
       "    <tr>\n",
       "      <th>...</th>\n",
       "      <td>...</td>\n",
       "      <td>...</td>\n",
       "      <td>...</td>\n",
       "      <td>...</td>\n",
       "      <td>...</td>\n",
       "      <td>...</td>\n",
       "      <td>...</td>\n",
       "      <td>...</td>\n",
       "      <td>...</td>\n",
       "      <td>...</td>\n",
       "      <td>...</td>\n",
       "      <td>...</td>\n",
       "      <td>...</td>\n",
       "      <td>...</td>\n",
       "      <td>...</td>\n",
       "      <td>...</td>\n",
       "      <td>...</td>\n",
       "      <td>...</td>\n",
       "      <td>...</td>\n",
       "      <td>...</td>\n",
       "      <td>...</td>\n",
       "    </tr>\n",
       "    <tr>\n",
       "      <th>21802</th>\n",
       "      <td>a</td>\n",
       "      <td>-1.126288</td>\n",
       "      <td>-1.117289</td>\n",
       "      <td>-0.940384</td>\n",
       "      <td>-1.011146</td>\n",
       "      <td>0.105093</td>\n",
       "      <td>-0.184506</td>\n",
       "      <td>-1.692892</td>\n",
       "      <td>-1.126288</td>\n",
       "      <td>-0.895151</td>\n",
       "      <td>...</td>\n",
       "      <td>0.810328</td>\n",
       "      <td>0.810328</td>\n",
       "      <td>0.810328</td>\n",
       "      <td>0.810328</td>\n",
       "      <td>0.0</td>\n",
       "      <td>0.0</td>\n",
       "      <td>-3.0</td>\n",
       "      <td>0.810328</td>\n",
       "      <td>0.810328</td>\n",
       "      <td>1.609438</td>\n",
       "    </tr>\n",
       "    <tr>\n",
       "      <th>21803</th>\n",
       "      <td>a</td>\n",
       "      <td>-1.144524</td>\n",
       "      <td>-1.072056</td>\n",
       "      <td>-0.999352</td>\n",
       "      <td>-1.036581</td>\n",
       "      <td>0.078208</td>\n",
       "      <td>-0.134139</td>\n",
       "      <td>-0.977896</td>\n",
       "      <td>-1.144524</td>\n",
       "      <td>-0.935884</td>\n",
       "      <td>...</td>\n",
       "      <td>0.810328</td>\n",
       "      <td>0.810328</td>\n",
       "      <td>0.810328</td>\n",
       "      <td>0.810328</td>\n",
       "      <td>0.0</td>\n",
       "      <td>0.0</td>\n",
       "      <td>-3.0</td>\n",
       "      <td>0.810328</td>\n",
       "      <td>0.810328</td>\n",
       "      <td>1.609438</td>\n",
       "    </tr>\n",
       "    <tr>\n",
       "      <th>21804</th>\n",
       "      <td>a</td>\n",
       "      <td>-1.153523</td>\n",
       "      <td>-1.085555</td>\n",
       "      <td>-1.040086</td>\n",
       "      <td>-1.071014</td>\n",
       "      <td>0.05242</td>\n",
       "      <td>-0.738615</td>\n",
       "      <td>-0.703876</td>\n",
       "      <td>-1.153523</td>\n",
       "      <td>-1.017588</td>\n",
       "      <td>...</td>\n",
       "      <td>0.810328</td>\n",
       "      <td>0.810328</td>\n",
       "      <td>0.810328</td>\n",
       "      <td>0.810328</td>\n",
       "      <td>0.0</td>\n",
       "      <td>0.0</td>\n",
       "      <td>-3.0</td>\n",
       "      <td>0.810328</td>\n",
       "      <td>0.810328</td>\n",
       "      <td>1.609438</td>\n",
       "    </tr>\n",
       "    <tr>\n",
       "      <th>21805</th>\n",
       "      <td>a</td>\n",
       "      <td>-1.285196</td>\n",
       "      <td>-1.11279</td>\n",
       "      <td>-0.999352</td>\n",
       "      <td>-1.062868</td>\n",
       "      <td>0.157723</td>\n",
       "      <td>-0.126048</td>\n",
       "      <td>-0.797103</td>\n",
       "      <td>-1.285196</td>\n",
       "      <td>-0.854181</td>\n",
       "      <td>...</td>\n",
       "      <td>0.810328</td>\n",
       "      <td>0.810328</td>\n",
       "      <td>0.810328</td>\n",
       "      <td>0.810328</td>\n",
       "      <td>0.0</td>\n",
       "      <td>0.0</td>\n",
       "      <td>-3.0</td>\n",
       "      <td>0.810328</td>\n",
       "      <td>0.810328</td>\n",
       "      <td>1.609438</td>\n",
       "    </tr>\n",
       "    <tr>\n",
       "      <th>21806</th>\n",
       "      <td>a</td>\n",
       "      <td>-1.185257</td>\n",
       "      <td>-1.130907</td>\n",
       "      <td>-1.00847</td>\n",
       "      <td>-1.067399</td>\n",
       "      <td>0.122693</td>\n",
       "      <td>0.136347</td>\n",
       "      <td>-1.5</td>\n",
       "      <td>-1.185257</td>\n",
       "      <td>-0.940384</td>\n",
       "      <td>...</td>\n",
       "      <td>0.810328</td>\n",
       "      <td>0.810328</td>\n",
       "      <td>0.810328</td>\n",
       "      <td>0.810328</td>\n",
       "      <td>0.0</td>\n",
       "      <td>0.0</td>\n",
       "      <td>-3.0</td>\n",
       "      <td>0.810328</td>\n",
       "      <td>0.810328</td>\n",
       "      <td>1.098612</td>\n",
       "    </tr>\n",
       "  </tbody>\n",
       "</table>\n",
       "<p>21807 rows × 51 columns</p>\n",
       "</div>"
      ],
      "text/plain": [
       "       Разметка                    Ay                 Ay.1  \\\n",
       "0      mode_str              mode_int          quantile_25   \n",
       "1             e    0.5192963983494827   0.5924547933733363   \n",
       "2             e    0.7387715133715835   0.8004713578447651   \n",
       "3             e    0.7781419016624785   0.9074177596015771   \n",
       "4             e  0.007187843330887476  0.04655816157232266   \n",
       "...         ...                   ...                  ...   \n",
       "21802         a             -1.126288            -1.117289   \n",
       "21803         a             -1.144524            -1.072056   \n",
       "21804         a             -1.153523            -1.085555   \n",
       "21805         a             -1.285196             -1.11279   \n",
       "21806         a             -1.185257            -1.130907   \n",
       "\n",
       "                      Ay.2                 Ay.3                 Ay.4  \\\n",
       "0              quantile_75                 mean                  std   \n",
       "1       0.7837242832204152   0.7398880106980088  0.19719332221128227   \n",
       "2       1.0763577932663695   0.9682949151979703  0.18636317277108674   \n",
       "3        1.059316861157761   0.9524880164045444  0.12027540712265239   \n",
       "4      0.22078671931079297  0.17483505817375336   0.1737328589124364   \n",
       "...                    ...                  ...                  ...   \n",
       "21802            -0.940384            -1.011146             0.105093   \n",
       "21803            -0.999352            -1.036581             0.078208   \n",
       "21804            -1.040086            -1.071014              0.05242   \n",
       "21805            -0.999352            -1.062868             0.157723   \n",
       "21806             -1.00847            -1.067399             0.122693   \n",
       "\n",
       "                       Ay.5                 Ay.6                  Ay.7  \\\n",
       "0                      skew             kurtosis                  amin   \n",
       "1       0.34917205900560794  -1.0302843680796943    0.5192963983494827   \n",
       "2      -0.32499048247816037  -1.6624501968456527    0.7387715133715835   \n",
       "3       -0.4043443321695687  -1.1272787207279975    0.7781419016624785   \n",
       "4        0.7054107647230435  -0.7761532793845038  0.007187843330887476   \n",
       "...                     ...                  ...                   ...   \n",
       "21802             -0.184506            -1.692892             -1.126288   \n",
       "21803             -0.134139            -0.977896             -1.144524   \n",
       "21804             -0.738615            -0.703876             -1.153523   \n",
       "21805             -0.126048            -0.797103             -1.285196   \n",
       "21806              0.136347                 -1.5             -1.185257   \n",
       "\n",
       "                      Ay.8  ...      Сердечный_Ритм    Сердечный_Ритм.1  \\\n",
       "0                     amax  ...            mode_int         quantile_25   \n",
       "1       1.0258226768843313  ...  -1.243010309639208  -1.243010309639208   \n",
       "2       1.1606808813566365  ...  -1.243010309639208  -1.243010309639208   \n",
       "3        1.070775411708433  ...  -1.243010309639208  -1.243010309639208   \n",
       "4      0.44613807337508893  ...  -1.243010309639208  -1.243010309639208   \n",
       "...                    ...  ...                 ...                 ...   \n",
       "21802            -0.895151  ...            0.810328            0.810328   \n",
       "21803            -0.935884  ...            0.810328            0.810328   \n",
       "21804            -1.017588  ...            0.810328            0.810328   \n",
       "21805            -0.854181  ...            0.810328            0.810328   \n",
       "21806            -0.940384  ...            0.810328            0.810328   \n",
       "\n",
       "         Сердечный_Ритм.2    Сердечный_Ритм.3 Сердечный_Ритм.4  \\\n",
       "0             quantile_75                mean              std   \n",
       "1      -1.243010309639208  -1.243010309639208              0.0   \n",
       "2      -1.243010309639208  -1.243010309639208              0.0   \n",
       "3      -1.243010309639208  -1.243010309639208              0.0   \n",
       "4      -1.243010309639208  -1.243010309639208              0.0   \n",
       "...                   ...                 ...              ...   \n",
       "21802            0.810328            0.810328              0.0   \n",
       "21803            0.810328            0.810328              0.0   \n",
       "21804            0.810328            0.810328              0.0   \n",
       "21805            0.810328            0.810328              0.0   \n",
       "21806            0.810328            0.810328              0.0   \n",
       "\n",
       "      Сердечный_Ритм.5 Сердечный_Ритм.6    Сердечный_Ритм.7  \\\n",
       "0                 skew         kurtosis                amin   \n",
       "1                  0.0             -3.0  -1.243010309639208   \n",
       "2                  0.0             -3.0  -1.243010309639208   \n",
       "3                  0.0             -3.0  -1.243010309639208   \n",
       "4                  0.0             -3.0  -1.243010309639208   \n",
       "...                ...              ...                 ...   \n",
       "21802              0.0             -3.0            0.810328   \n",
       "21803              0.0             -3.0            0.810328   \n",
       "21804              0.0             -3.0            0.810328   \n",
       "21805              0.0             -3.0            0.810328   \n",
       "21806              0.0             -3.0            0.810328   \n",
       "\n",
       "         Сердечный_Ритм.8    Сердечный_Ритм.9  \n",
       "0                    amax             entropy  \n",
       "1      -1.243010309639208  1.6094379124341005  \n",
       "2      -1.243010309639208  1.6094379124341005  \n",
       "3      -1.243010309639208  1.6094379124341005  \n",
       "4      -1.243010309639208  1.6094379124341005  \n",
       "...                   ...                 ...  \n",
       "21802            0.810328            1.609438  \n",
       "21803            0.810328            1.609438  \n",
       "21804            0.810328            1.609438  \n",
       "21805            0.810328            1.609438  \n",
       "21806            0.810328            1.098612  \n",
       "\n",
       "[21807 rows x 51 columns]"
      ]
     },
     "execution_count": 25,
     "metadata": {},
     "output_type": "execute_result"
    }
   ],
   "source": [
    "table_s_feature"
   ]
  },
  {
   "cell_type": "code",
   "execution_count": 43,
   "id": "8ae0e104-623a-45b0-99c6-63d60420c737",
   "metadata": {},
   "outputs": [
    {
     "data": {
      "text/html": [
       "<div>\n",
       "<style scoped>\n",
       "    .dataframe tbody tr th:only-of-type {\n",
       "        vertical-align: middle;\n",
       "    }\n",
       "\n",
       "    .dataframe tbody tr th {\n",
       "        vertical-align: top;\n",
       "    }\n",
       "\n",
       "    .dataframe thead th {\n",
       "        text-align: right;\n",
       "    }\n",
       "</style>\n",
       "<table border=\"1\" class=\"dataframe\">\n",
       "  <thead>\n",
       "    <tr style=\"text-align: right;\">\n",
       "      <th></th>\n",
       "      <th>Ax</th>\n",
       "      <th>Ay</th>\n",
       "      <th>Az</th>\n",
       "      <th>Сердечный_Ритм</th>\n",
       "      <th>Шаги</th>\n",
       "      <th>Разметка</th>\n",
       "    </tr>\n",
       "  </thead>\n",
       "  <tbody>\n",
       "    <tr>\n",
       "      <th>0</th>\n",
       "      <td>0.828543</td>\n",
       "      <td>0.778142</td>\n",
       "      <td>0.346522</td>\n",
       "      <td>-1.24301</td>\n",
       "      <td>-0.557485</td>\n",
       "      <td>e</td>\n",
       "    </tr>\n",
       "    <tr>\n",
       "      <th>1</th>\n",
       "      <td>0.758734</td>\n",
       "      <td>0.519296</td>\n",
       "      <td>0.243531</td>\n",
       "      <td>-1.24301</td>\n",
       "      <td>-0.557485</td>\n",
       "      <td>e</td>\n",
       "    </tr>\n",
       "    <tr>\n",
       "      <th>2</th>\n",
       "      <td>0.739309</td>\n",
       "      <td>0.592455</td>\n",
       "      <td>0.243531</td>\n",
       "      <td>-1.24301</td>\n",
       "      <td>-0.557485</td>\n",
       "      <td>e</td>\n",
       "    </tr>\n",
       "    <tr>\n",
       "      <th>3</th>\n",
       "      <td>0.723930</td>\n",
       "      <td>0.783724</td>\n",
       "      <td>0.206102</td>\n",
       "      <td>-1.24301</td>\n",
       "      <td>-0.557485</td>\n",
       "      <td>e</td>\n",
       "    </tr>\n",
       "    <tr>\n",
       "      <th>4</th>\n",
       "      <td>0.770267</td>\n",
       "      <td>1.025823</td>\n",
       "      <td>0.248179</td>\n",
       "      <td>-1.24301</td>\n",
       "      <td>-0.557485</td>\n",
       "      <td>e</td>\n",
       "    </tr>\n",
       "    <tr>\n",
       "      <th>5</th>\n",
       "      <td>0.948533</td>\n",
       "      <td>1.160681</td>\n",
       "      <td>0.206102</td>\n",
       "      <td>-1.24301</td>\n",
       "      <td>-0.557485</td>\n",
       "      <td>e</td>\n",
       "    </tr>\n",
       "    <tr>\n",
       "      <th>6</th>\n",
       "      <td>1.506802</td>\n",
       "      <td>1.076358</td>\n",
       "      <td>0.187266</td>\n",
       "      <td>-1.24301</td>\n",
       "      <td>-0.557485</td>\n",
       "      <td>e</td>\n",
       "    </tr>\n",
       "    <tr>\n",
       "      <th>7</th>\n",
       "      <td>1.328536</td>\n",
       "      <td>1.065193</td>\n",
       "      <td>0.191914</td>\n",
       "      <td>-1.24301</td>\n",
       "      <td>-0.557485</td>\n",
       "      <td>e</td>\n",
       "    </tr>\n",
       "    <tr>\n",
       "      <th>8</th>\n",
       "      <td>1.022186</td>\n",
       "      <td>0.738772</td>\n",
       "      <td>0.351170</td>\n",
       "      <td>-1.24301</td>\n",
       "      <td>-0.557485</td>\n",
       "      <td>e</td>\n",
       "    </tr>\n",
       "    <tr>\n",
       "      <th>9</th>\n",
       "      <td>1.138535</td>\n",
       "      <td>0.800471</td>\n",
       "      <td>0.173322</td>\n",
       "      <td>-1.24301</td>\n",
       "      <td>-0.557485</td>\n",
       "      <td>e</td>\n",
       "    </tr>\n",
       "  </tbody>\n",
       "</table>\n",
       "</div>"
      ],
      "text/plain": [
       "         Ax        Ay        Az  Сердечный_Ритм      Шаги Разметка\n",
       "0  0.828543  0.778142  0.346522        -1.24301 -0.557485        e\n",
       "1  0.758734  0.519296  0.243531        -1.24301 -0.557485        e\n",
       "2  0.739309  0.592455  0.243531        -1.24301 -0.557485        e\n",
       "3  0.723930  0.783724  0.206102        -1.24301 -0.557485        e\n",
       "4  0.770267  1.025823  0.248179        -1.24301 -0.557485        e\n",
       "5  0.948533  1.160681  0.206102        -1.24301 -0.557485        e\n",
       "6  1.506802  1.076358  0.187266        -1.24301 -0.557485        e\n",
       "7  1.328536  1.065193  0.191914        -1.24301 -0.557485        e\n",
       "8  1.022186  0.738772  0.351170        -1.24301 -0.557485        e\n",
       "9  1.138535  0.800471  0.173322        -1.24301 -0.557485        e"
      ]
     },
     "execution_count": 43,
     "metadata": {},
     "output_type": "execute_result"
    }
   ],
   "source": [
    "table_Pasha_new_s.head(10)"
   ]
  },
  {
   "cell_type": "code",
   "execution_count": 39,
   "id": "8bd30f05-f08d-4d92-bbd8-bb518ca08fa7",
   "metadata": {},
   "outputs": [
    {
     "data": {
      "text/plain": [
       "-0.9534000039100647"
      ]
     },
     "execution_count": 39,
     "metadata": {},
     "output_type": "execute_result"
    }
   ],
   "source": [
    "table_Max.head(10).Ay[5:].mean()"
   ]
  },
  {
   "cell_type": "code",
   "execution_count": 45,
   "id": "050a7317-a302-4578-9a78-5568d1a5cd99",
   "metadata": {},
   "outputs": [],
   "source": [
    "table_s_feature = table_s_feature.reset_index(drop=True)"
   ]
  },
  {
   "cell_type": "code",
   "execution_count": 46,
   "id": "b7ff3e86-1334-4dde-bd22-226ae7b3bf90",
   "metadata": {},
   "outputs": [],
   "source": [
    "table_s_feature = pd.read_csv('table_s_feature1.csv', header=[0, 1])\n"
   ]
  },
  {
   "cell_type": "code",
   "execution_count": 3,
   "id": "34fed2d3-2fdc-4bcc-a106-e6289e67e397",
   "metadata": {},
   "outputs": [],
   "source": [
    "from sklearn.model_selection import train_test_split\n",
    "import catboost as cb\n",
    "from sklearn.metrics import log_loss"
   ]
  },
  {
   "cell_type": "code",
   "execution_count": 65,
   "id": "ee1128f3-ad7f-40e7-99e7-3ab6add3b2ea",
   "metadata": {},
   "outputs": [],
   "source": [
    "def clean_dataset(df):\n",
    "    new_df = df.replace([np.inf, -np.inf], np.nan, inplace=False)\n",
    "    new_df = new_df.fillna(df.mean())\n",
    "    return new_df"
   ]
  },
  {
   "cell_type": "code",
   "execution_count": 66,
   "id": "4609c6ea-f633-491a-a707-8b2e93f66d61",
   "metadata": {},
   "outputs": [
    {
     "name": "stderr",
     "output_type": "stream",
     "text": [
      "A:\\Anaconda3\\lib\\site-packages\\pandas\\core\\generic.py:4147: PerformanceWarning: dropping on a non-lexsorted multi-index without a level parameter may impact performance.\n",
      "  obj = obj._drop_axis(labels, axis, level=level, errors=errors)\n"
     ]
    }
   ],
   "source": [
    "X_train, X_test, y_train, y_test = train_test_split(clean_dataset(table_s_feature.drop(\"Разметка\", axis=1)), \n",
    "                                                    table_s_feature[\"Разметка\"], \n",
    "                                                    random_state=1, test_size=.15)\n",
    "X_train, X_valid, y_train, y_valid = train_test_split(X_train, y_train, random_state=2, test_size=.18)"
   ]
  },
  {
   "cell_type": "code",
   "execution_count": 67,
   "id": "a094361e-b88a-4670-91d4-0f8ae54c146c",
   "metadata": {},
   "outputs": [
    {
     "name": "stdout",
     "output_type": "stream",
     "text": [
      "Правильность на валидационном наборе: 0.72\n",
      "              precision    recall  f1-score   support\n",
      "\n",
      "           0       0.62      0.85      0.72       495\n",
      "           1       0.86      0.65      0.74      1497\n",
      "           2       0.57      0.67      0.62       303\n",
      "           3       0.48      0.83      0.61       135\n",
      "           4       0.71      0.74      0.73       907\n",
      "\n",
      "    accuracy                           0.72      3337\n",
      "   macro avg       0.65      0.75      0.68      3337\n",
      "weighted avg       0.74      0.72      0.72      3337\n",
      "\n"
     ]
    },
    {
     "data": {
      "image/png": "[encoded data removed]",
      "text/plain": [
       "<Figure size 432x288 with 1 Axes>"
      ]
     },
     "metadata": {
      "needs_background": "light"
     },
     "output_type": "display_data"
    }
   ],
   "source": [
    "y_enc = ['a', 'b', 'd', 'c', 'e']\n",
    "enc = LabelEncoder()\n",
    "enc.fit(y_enc)\n",
    "y_train_rf = pd.DataFrame(enc.transform(y_train.values.ravel()), columns=[\"Разметка\"])\n",
    "y_valid_rf = pd.DataFrame(enc.transform(y_valid.values.ravel()), columns=[\"Разметка\"])\n",
    "\n",
    "forest = RandomForestClassifier(n_jobs=-1, random_state=1, n_estimators=500).fit(X_train, y_train_rf.values.ravel())\n",
    "\n",
    "print(\"Правильность на валидационном наборе: {:.2f}\".format(forest.score(X_valid, y_valid_rf.values.ravel())))\n",
    "print(classification_report(forest.predict(X_valid), y_valid_rf))\n",
    "score_image = mglearn.tools.heatmap(\n",
    "                        confusion_matrix(y_valid_rf, forest.predict(X_valid)),\n",
    "                        xlabel=\"Спрогнозировання метка класса\",\n",
    "                        ylabel=\"Фактическая метка класса\",\n",
    "                        xticklabels=sorted(enc.classes_[sorted(y_valid_rf[\"Разметка\"].unique())]),\n",
    "                        yticklabels=sorted(enc.classes_[sorted(y_valid_rf[\"Разметка\"].unique())]),\n",
    "                        cmap=plt.cm.gray_r, fmt=\"%d\")"
   ]
  },
  {
   "cell_type": "code",
   "execution_count": 245,
   "id": "ee5b7fc9-ea33-4bd9-a6b2-c5b0d157c3a5",
   "metadata": {},
   "outputs": [
    {
     "name": "stdout",
     "output_type": "stream",
     "text": [
      "Важность признака: ('Сердечный_Ритм', 'amax') для распознавания составляет: 0.04086876164779832\n",
      "Важность признака: ('Сердечный_Ритм', 'quantile_25') для распознавания составляет: 0.040085241853112984\n",
      "Важность признака: ('Сердечный_Ритм', 'amin') для распознавания составляет: 0.03993670154615873\n",
      "Важность признака: ('Сердечный_Ритм', 'mean') для распознавания составляет: 0.03920900479010118\n",
      "Важность признака: ('Сердечный_Ритм', 'quantile_75') для распознавания составляет: 0.03888691089981775\n",
      "Важность признака: ('Сердечный_Ритм', 'mode_int') для распознавания составляет: 0.03842620617688737\n",
      "Важность признака: ('Ax', 'amax') для распознавания составляет: 0.026346881808633146\n",
      "Важность признака: ('Ax', 'mean') для распознавания составляет: 0.0261099574596884\n",
      "Важность признака: ('Ay', 'mean') для распознавания составляет: 0.026095774945780473\n",
      "Важность признака: ('Ax', 'quantile_75') для распознавания составляет: 0.02562247974089227\n"
     ]
    }
   ],
   "source": [
    "d = {}\n",
    "for i in zip(X_valid.columns, forest.feature_importances_):\n",
    "    d[i[0]] = i[1]\n",
    "d = dict(sorted(d.items(), key=lambda item: item[1], reverse=True))\n",
    "i1 = 0\n",
    "for i in d:\n",
    "    i1 += 1\n",
    "    print(\"Важность признака: {} для распознавания составляет: {}\".format(i, d[i]))\n",
    "    if i1 == 10:\n",
    "        break"
   ]
  },
  {
   "cell_type": "code",
   "execution_count": 239,
   "id": "9f202326-e0bd-4dd7-99cc-0b10d184f32f",
   "metadata": {},
   "outputs": [
    {
     "data": {
      "application/vnd.jupyter.widget-view+json": {
       "model_id": "8d7cac70417b4900a4d2e47331404dba",
       "version_major": 2,
       "version_minor": 0
      },
      "text/plain": [
       "MetricVisualizer(layout=Layout(align_self='stretch', height='500px'))"
      ]
     },
     "metadata": {},
     "output_type": "display_data"
    },
    {
     "data": {
      "text/plain": [
       "<catboost.core.CatBoostClassifier at 0x24b47e56040>"
      ]
     },
     "execution_count": 239,
     "metadata": {},
     "output_type": "execute_result"
    }
   ],
   "source": [
    "model = cb.CatBoostClassifier(task_type=\"GPU\")\n",
    "model.fit(X_train,y_train, eval_set=(X_valid, y_valid), plot=True, verbose=False)"
   ]
  },
  {
   "cell_type": "code",
   "execution_count": 246,
   "id": "d8a1d9c5-a815-4d00-a68d-21d8110b450a",
   "metadata": {},
   "outputs": [
    {
     "name": "stdout",
     "output_type": "stream",
     "text": [
      "Правильность на валидационном наборе: 0.66\n",
      "              precision    recall  f1-score   support\n",
      "\n",
      "           a       0.57      0.75      0.65       508\n",
      "           b       0.79      0.61      0.69      1467\n",
      "           c       0.49      0.61      0.54       289\n",
      "           d       0.39      0.66      0.49       137\n",
      "           e       0.68      0.68      0.68       936\n",
      "\n",
      "    accuracy                           0.66      3337\n",
      "   macro avg       0.58      0.66      0.61      3337\n",
      "weighted avg       0.68      0.66      0.66      3337\n",
      "\n"
     ]
    },
    {
     "data": {
      "image/png": "[encoded data removed]",
      "text/plain": [
       "<Figure size 432x288 with 1 Axes>"
      ]
     },
     "metadata": {
      "needs_background": "light"
     },
     "output_type": "display_data"
    }
   ],
   "source": [
    "print(\"Правильность на валидационном наборе: {:.2f}\".format(model.score(X_valid, y_valid)))\n",
    "print(classification_report(model.predict(X_valid), y_valid))\n",
    "plt.figure()\n",
    "score_image = mglearn.tools.heatmap(\n",
    "                        confusion_matrix(y_valid, model.predict(X_valid)),\n",
    "                        xlabel=\"Спрогнозировання метка класса\",\n",
    "                        ylabel=\"Фактическая метка класса\",\n",
    "                        xticklabels=sorted(y_valid.mode_str.unique()),\n",
    "                        yticklabels=sorted(y_valid.mode_str.unique()),\n",
    "                        cmap=plt.cm.gray_r, fmt=\"%d\")"
   ]
  },
  {
   "cell_type": "code",
   "execution_count": 247,
   "id": "88b61995-ff16-40ce-b14d-bb4456e3636d",
   "metadata": {},
   "outputs": [],
   "source": [
    "test_pool = cb.Pool(X_valid, y_valid, feature_names=list(X_valid.columns))"
   ]
  },
  {
   "cell_type": "code",
   "execution_count": 248,
   "id": "2123022d-6abe-483c-8a46-8dfedb2c654d",
   "metadata": {},
   "outputs": [
    {
     "name": "stdout",
     "output_type": "stream",
     "text": [
      "Важность признака: ('Сердечный_Ритм', 'amax') для распознавания составляет: 6.034646509272406\n",
      "Важность признака: ('Сердечный_Ритм', 'amin') для распознавания составляет: 5.869710484940761\n",
      "Важность признака: ('Сердечный_Ритм', 'mean') для распознавания составляет: 3.491512459233916\n",
      "Важность признака: ('Сердечный_Ритм', 'quantile_75') для распознавания составляет: 3.3877146429451064\n",
      "Важность признака: ('Шаги', 'amax') для распознавания составляет: 3.219201959119424\n",
      "Важность признака: ('Ax', 'std') для распознавания составляет: 3.0108764150074827\n",
      "Важность признака: ('Ay', 'quantile_75') для распознавания составляет: 2.961757460726812\n",
      "Важность признака: ('Шаги', 'mean') для распознавания составляет: 2.9158146844534842\n",
      "Важность признака: ('Az', 'std') для распознавания составляет: 2.8175818810422197\n",
      "Важность признака: ('Ay', 'amax') для распознавания составляет: 2.776177783792413\n"
     ]
    }
   ],
   "source": [
    "d = {}\n",
    "for i in zip(X_valid.columns, model.feature_importances_):\n",
    "    d[i[0]] = i[1]\n",
    "d = dict(sorted(d.items(), key=lambda item: item[1], reverse=True))\n",
    "i1 = 0\n",
    "for i in d:\n",
    "    i1 += 1\n",
    "    print(\"Важность признака: {} для распознавания составляет: {}\".format(i, d[i]))\n",
    "    if i1 == 10:\n",
    "        break"
   ]
  },
  {
   "cell_type": "code",
   "execution_count": 251,
   "id": "26b36254-1c9f-4cc0-bb22-e67e50ee6c03",
   "metadata": {},
   "outputs": [
    {
     "name": "stdout",
     "output_type": "stream",
     "text": [
      "Правильность на тестовом наборе: 0.72\n",
      "              precision    recall  f1-score   support\n",
      "\n",
      "           0       0.63      0.86      0.73       496\n",
      "           1       0.87      0.66      0.75      1456\n",
      "           2       0.56      0.69      0.62       304\n",
      "           3       0.45      0.71      0.55       151\n",
      "           4       0.72      0.73      0.73       864\n",
      "\n",
      "    accuracy                           0.72      3271\n",
      "   macro avg       0.65      0.73      0.67      3271\n",
      "weighted avg       0.75      0.72      0.72      3271\n",
      "\n"
     ]
    },
    {
     "data": {
      "image/png": "[encoded data removed]",
      "text/plain": [
       "<Figure size 432x288 with 1 Axes>"
      ]
     },
     "metadata": {
      "needs_background": "light"
     },
     "output_type": "display_data"
    }
   ],
   "source": [
    "y_enc = ['a', 'b', 'd', 'c', 'e']\n",
    "enc = LabelEncoder()\n",
    "enc.fit(y_enc)\n",
    "y_test_rf = pd.DataFrame(enc.transform(y_test.values.ravel()), columns=[\"Разметка\"])\n",
    "\n",
    "print(\"Правильность на тестовом наборе: {:.2f}\".format(forest.score(X_test, y_test_rf.values.ravel())))\n",
    "print(classification_report(forest.predict(X_test), y_test_rf.values.ravel()))\n",
    "score_image = mglearn.tools.heatmap(\n",
    "                        confusion_matrix(y_test_rf.values.ravel(), forest.predict(X_test)),\n",
    "                        xlabel=\"Спрогнозировання метка класса\",\n",
    "                        ylabel=\"Фактическая метка класса\",\n",
    "                        xticklabels=sorted(enc.classes_[sorted(y_test_rf[\"Разметка\"].unique())]),\n",
    "                        yticklabels=sorted(enc.classes_[sorted(y_test_rf[\"Разметка\"].unique())]),\n",
    "                        cmap=plt.cm.gray_r, fmt=\"%d\")"
   ]
  },
  {
   "cell_type": "code",
   "execution_count": 90,
   "id": "c0af8a55-2f59-4223-be53-261584259e1e",
   "metadata": {},
   "outputs": [],
   "source": [
    "from collections import defaultdict\n",
    "values = defaultdict(str)\n",
    "values[\"Имя\"] = \"Олег Ляшко Владимирович\"\n",
    "values[\"Рабочая группа\"] = 345\n",
    "values[\"Дата\"] = \"27.05.2022\""
   ]
  },
  {
   "cell_type": "code",
   "execution_count": 91,
   "id": "2afd2b60-8a6e-49b0-a1fe-847b226613ae",
   "metadata": {},
   "outputs": [
    {
     "name": "stdout",
     "output_type": "stream",
     "text": [
      "Имя: Олег Ляшко Владимирович\n",
      "Рабочая группа: 345\n",
      "Дата: 27.05.2022\n",
      "\n",
      "Декодирование меток классов:\n",
      "a - простой, b - перемещение, \n",
      "c - низкая мобильная активность\n",
      "d - высокая мобильная активность\n",
      "e - низкая статическая активность,\n",
      "f - высокая статическая активность\n",
      "\n",
      "Метка - встречаемость:\n",
      "b    1446\n",
      "e     861\n",
      "a     502\n",
      "c     309\n",
      "d     153\n",
      "\n",
      "\n"
     ]
    },
    {
     "data": {
      "image/png": "[encoded data removed]",
      "text/plain": [
       "<Figure size 432x288 with 1 Axes>"
      ]
     },
     "metadata": {
      "needs_background": "light"
     },
     "output_type": "display_data"
    }
   ],
   "source": [
    "f_p = enc.inverse_transform(forest.predict(X_test))\n",
    "for i in values:\n",
    "    print(i + \":\" , values[i])\n",
    "print()\n",
    "print(\"Декодирование меток классов:\\na - простой, b - перемещение, \\nc - низкая мобильная активность\" + \n",
    "      \"\\nd - высокая мобильная активность\\ne - низкая статическая активность,\\nf - высокая статическая активность\")\n",
    "print()\n",
    "print(\"Метка - встречаемость:\\n{}\\n\".format(pd.value_counts(f_p).to_string(index=True)))\n",
    "print()\n",
    "sns.histplot(f_p);\n",
    "plt.xlabel(\"Метки рабочей активности сотрудников\")\n",
    "plt.ylabel(\"Количество меток\");"
   ]
  }
 ],
 "metadata": {
  "kernelspec": {
   "display_name": "Python 3 (ipykernel)",
   "language": "python",
   "name": "python3"
  },
  "language_info": {
   "codemirror_mode": {
    "name": "ipython",
    "version": 3
   },
   "file_extension": ".py",
   "mimetype": "text/x-python",
   "name": "python",
   "nbconvert_exporter": "python",
   "pygments_lexer": "ipython3",
   "version": "3.8.5"
  }
 },
 "nbformat": 4,
 "nbformat_minor": 5
}
